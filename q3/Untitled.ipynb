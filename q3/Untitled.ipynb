{
 "cells": [
  {
   "cell_type": "code",
   "execution_count": 90,
   "metadata": {},
   "outputs": [],
   "source": [
    "closed_space_dic = {\"0\":1, \"1\":0, \"2\":0, \"3\":0, \"4\":1, \"5\":0, \"6\":1, \"7\":0, \"8\":2, \"9\":1, \"a\":1, \"b\":2, \"c\":0, \"d\":1, \"e\":0, \"f\":0}"
   ]
  },
  {
   "cell_type": "code",
   "execution_count": 92,
   "metadata": {},
   "outputs": [],
   "source": [
    "def Base_10_to_n(X, n):\n",
    "    X_dumy = X\n",
    "    out = ''\n",
    "    while X_dumy>0:\n",
    "        out = hex(X_dumy%n)[2:]+out\n",
    "        X_dumy = int(X_dumy/n)\n",
    "    return out"
   ]
  },
  {
   "cell_type": "code",
   "execution_count": 54,
   "metadata": {},
   "outputs": [],
   "source": [
    "def count_space(list):\n",
    "    cnt = 0\n",
    "    for num in list:\n",
    "        cnt += closed_space_dic[num]\n",
    "    return cnt"
   ]
  },
  {
   "cell_type": "code",
   "execution_count": 109,
   "metadata": {
    "collapsed": true
   },
   "outputs": [],
   "source": [
    "K = 15\n",
    "L = 1\n",
    "H = 10000"
   ]
  },
  {
   "cell_type": "code",
   "execution_count": 110,
   "metadata": {},
   "outputs": [
    {
     "name": "stdout",
     "output_type": "stream",
     "text": [
      "19817\n"
     ]
    }
   ],
   "source": [
    "closed_sum = 0\n",
    "for i in range(L, H+1):\n",
    "    closed_sum += count_space(Base_10_to_n(i, K))\n",
    "print(closed_sum)"
   ]
  },
  {
   "cell_type": "code",
   "execution_count": null,
   "metadata": {
    "collapsed": true
   },
   "outputs": [],
   "source": []
  }
 ],
 "metadata": {
  "kernelspec": {
   "display_name": "Python 3",
   "language": "python",
   "name": "python3"
  },
  "language_info": {
   "codemirror_mode": {
    "name": "ipython",
    "version": 3
   },
   "file_extension": ".py",
   "mimetype": "text/x-python",
   "name": "python",
   "nbconvert_exporter": "python",
   "pygments_lexer": "ipython3",
   "version": "3.6.1"
  }
 },
 "nbformat": 4,
 "nbformat_minor": 2
}
