{
 "cells": [
  {
   "cell_type": "code",
   "execution_count": 101,
   "metadata": {},
   "outputs": [],
   "source": [
    "def make_cipher_dic():\n",
    "    f1 = open('question.txt', 'r', encoding='utf-8')\n",
    "    f2 = open('answer.txt', 'r', encoding='utf-8')\n",
    "    cipher_dic = {}\n",
    "    for c,p in zip(f1,f2):\n",
    "        cipher_dic.update(dict(zip(c,p)))\n",
    "    return cipher_dic"
   ]
  },
  {
   "cell_type": "code",
   "execution_count": 102,
   "metadata": {},
   "outputs": [],
   "source": [
    "def decoder(txt):\n",
    "    ret_text = []\n",
    "    cipher_dic = make_cipher_dic()\n",
    "    for c in txt:\n",
    "        if c in cipher_dic:\n",
    "            ret_text.append(cipher_dic[c])\n",
    "        else:\n",
    "            ret_text.append(c)\n",
    "    return \"\".join(ret_text)"
   ]
  },
  {
   "cell_type": "code",
   "execution_count": 100,
   "metadata": {},
   "outputs": [
    {
     "name": "stdout",
     "output_type": "stream",
     "text": [
      "definition\n",
      "No Match!!\n"
     ]
    }
   ],
   "source": [
    "#import sys\n",
    "f_dict = open('dict.txt', 'r', encoding='utf-8')\n",
    "decode_txt = decoder(\"vxpmjmhmcj\")\n",
    "for c in f_dict.readline().split(\" \"):\n",
    "    #print(c)\n",
    "    if c == decode_txt.lower():\n",
    "        print(decode_txt)\n",
    "        break\n",
    "print(\"No Match!!\")"
   ]
  },
  {
   "cell_type": "code",
   "execution_count": 106,
   "metadata": {},
   "outputs": [],
   "source": [
    "def cipher(input_txt, dict):\n",
    "    f_dict = open(dict, 'r', encoding='utf-8')\n",
    "    decode_txt = decoder(input_txt)\n",
    "    for c in f_dict.readline().split(\" \"):\n",
    "        if c == decode_txt.lower():\n",
    "            print(decode_txt)\n",
    "            sys.exit(0)\n",
    "    print(\"%s is No Match!!\" % (input_txt))"
   ]
  },
  {
   "cell_type": "code",
   "execution_count": 107,
   "metadata": {},
   "outputs": [
    {
     "name": "stdout",
     "output_type": "stream",
     "text": [
      "definition\n"
     ]
    },
    {
     "ename": "SystemExit",
     "evalue": "0",
     "output_type": "error",
     "traceback": [
      "An exception has occurred, use %tb to see the full traceback.\n",
      "\u001b[1;31mSystemExit\u001b[0m\u001b[1;31m:\u001b[0m 0\n"
     ]
    },
    {
     "name": "stderr",
     "output_type": "stream",
     "text": [
      "C:\\Users\\Akihiro Itou\\Anaconda3\\lib\\site-packages\\IPython\\core\\interactiveshell.py:2889: UserWarning: To exit: use 'exit', 'quit', or Ctrl-D.\n",
      "  warn(\"To exit: use 'exit', 'quit', or Ctrl-D.\", stacklevel=1)\n"
     ]
    }
   ],
   "source": [
    "import sys\n",
    "cipher(\"vxpmjmhmcj\", \"dict.txt\")"
   ]
  }
 ],
 "metadata": {
  "kernelspec": {
   "display_name": "Python 3",
   "language": "python",
   "name": "python3"
  },
  "language_info": {
   "codemirror_mode": {
    "name": "ipython",
    "version": 3
   },
   "file_extension": ".py",
   "mimetype": "text/x-python",
   "name": "python",
   "nbconvert_exporter": "python",
   "pygments_lexer": "ipython3",
   "version": "3.6.1"
  }
 },
 "nbformat": 4,
 "nbformat_minor": 2
}
